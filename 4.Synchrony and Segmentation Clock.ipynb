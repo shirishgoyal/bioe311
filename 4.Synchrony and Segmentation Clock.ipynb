{
 "cells": [
  {
   "cell_type": "code",
   "execution_count": 1,
   "metadata": {
    "collapsed": true
   },
   "outputs": [],
   "source": [
    "% matplotlib inline\n",
    "import numpy as np\n",
    "import matplotlib.pyplot as plt\n",
    "\n",
    "xpixels = 900\n",
    "ypixels = 600\n",
    "\n",
    "# get the size in inches\n",
    "dpi = 72.\n",
    "xinch = xpixels / dpi\n",
    "yinch = ypixels / dpi\n",
    "\n",
    "fig_size = [xinch, yinch]\n",
    "plt.rcParams[\"figure.figsize\"] = fig_size"
   ]
  },
  {
   "cell_type": "markdown",
   "metadata": {},
   "source": [
    "In the first problem set we analyzed two coupled phase oscillators, and determined under what conditions the two were phase-locked, or “synchronized.” As we discussed in class, the situation becomes more complicated when there is a collection of many coupled oscillators in the presence of noise. A model governing equation for globally coupled oscillators can be written as:\n",
    "\n",
    "$\\dot{\\theta_i} = \\omega_i + \\alpha\\sin(\\theta_{avg} - \\theta_i) + \\zeta_i$\n",
    "\n",
    "a) Setting all $\\omega_i$ equal, simulate N=100 phase oscillators, specified as a vector theta, initialized to a uniform random distribution. \n",
    "\n",
    "Circular variance : $$Z = \\frac{1}{N}\\sum_{j} e^{i\\theta} = |Z| e^{i\\theta}$$\n",
    "\n",
    "Be sure to calculate the average $\\theta_{avg}$ using the circular average. \n",
    "Plot the circular variance (synchrony) over time. Also plot the sine of the phases of all oscillators together on one plot. "
   ]
  },
  {
   "cell_type": "code",
   "execution_count": 5,
   "metadata": {},
   "outputs": [
    {
     "name": "stdout",
     "output_type": "stream",
     "text": [
      "[ 0.61459208  4.54657978  0.4665384   0.44377554  1.9680563   3.37920164\n",
      "  6.15738445  5.30474267  4.59724446  4.32593417  2.08057099  4.9382361\n",
      "  1.19208889  2.06255488  0.83581112  4.1389585   5.69282938  1.12964354\n",
      "  4.65728152  3.36743683  3.34315617  1.09480154  4.26033306  4.10488225\n",
      "  2.74217857  0.34944155  1.39386127  0.68868024  4.13255003  4.40591182\n",
      "  6.16660004  5.69700673  2.32911566  5.03825296  4.70755344  5.40671456\n",
      "  2.66076358  4.69215096  1.92375613  3.84239297  4.30612982  4.79682001\n",
      "  0.74080753  6.11941713  6.21182571  1.01854516  1.83702262  2.5993732\n",
      "  5.60156812  0.45506652  1.54126843  4.36611721  3.64390069  2.20600859\n",
      "  2.82051049  5.87115501  1.75809312  3.31268767  5.36505451  6.23724711\n",
      "  5.78575879  5.73745365  0.81265531  1.58739852  0.91511888  3.42647624\n",
      "  4.58177911  5.06655648  0.49780991  6.13740533  4.74563     2.04736783\n",
      "  5.24331721  3.7133003   2.32395436  2.73044086  4.73302563  2.28811307\n",
      "  1.00989219  0.79985109  0.25554742  2.3849327   4.93922041  0.27117996\n",
      "  0.49097658  3.75971066  2.49872336  1.26879684  3.78949418  1.19779367\n",
      "  0.36887662  0.82101642  0.78121457  5.84775052  1.48638417  1.26291591\n",
      "  2.97960145  4.43871442  5.14258864  3.2307123 ]\n"
     ]
    }
   ],
   "source": [
    "# uniform random distribution\n",
    "N=100\n",
    "omega = 1\n",
    "thetai=np.random.uniform(low=0, high=2*np.pi, size=N)\n",
    "\n",
    "#calculate z(i) for theta(i)\n",
    "\n",
    "#calculate Z (Synchrony)\n",
    "\n",
    "plt.plot(unstablePt, 0, 'o', markersize=10,markeredgewidth=1,\n",
    "             markerfacecolor='w', markeredgecolor='k')\n",
    "\n",
    "plt.xlabel(r'$\\phi$')\n",
    "plt.ylabel(r'$f(\\phi)$')\n",
    "\n",
    "plt.xlim(0, 2*np.pi)\n",
    "plt.ylim(-1.5, 3.5)\n",
    "\n",
    "plt.xticks([0, np.pi/2, np.pi, 3*np.pi/2, 2*np.pi],\n",
    "          [r'$0$', r'$+\\pi/2$', r'$\\pi$', r'$+3\\pi/2$', r'$+2\\pi$'])\n",
    "\n",
    "plt.legend(loc='upper right')\n",
    "plt.show()"
   ]
  },
  {
   "cell_type": "markdown",
   "metadata": {},
   "source": [
    "Describe what you see. Use $\\alpha = .1$, and $\\zeta$ a Gaussian distribution with mean $\\mu = .1$ and standard deviation $\\sigma = .1$ added to $\\theta$ every time step (use dt = .1). \n",
    "(It is strongly recommended to write your solver for this problem – eg. using Euler’s method – rather than using ode45. Note: no starter code is provided for Problem 4.) 10 pts."
   ]
  },
  {
   "cell_type": "code",
   "execution_count": null,
   "metadata": {
    "collapsed": true
   },
   "outputs": [],
   "source": [
    "alpha = 0.1\n",
    "mu, sigma = 0.1, 0.1 # mean and standard deviation\n",
    "dt = 0.1\n",
    "zeta = np.random.normal(mu, sigma, 1000)\n",
    "\n",
    "# use euler method"
   ]
  },
  {
   "cell_type": "markdown",
   "metadata": {},
   "source": [
    "b) Switch the sign of $\\alpha$ to be negative, repeat the simulation, and generate the same types of graphs. What happens? Why? What happens if N = 2? Why? 5 pts."
   ]
  },
  {
   "cell_type": "code",
   "execution_count": null,
   "metadata": {
    "collapsed": true
   },
   "outputs": [],
   "source": [
    "alpha = -0.1"
   ]
  },
  {
   "cell_type": "markdown",
   "metadata": {},
   "source": [
    "c) For positive $\\alpha$, vary the mean and variance of $\\zeta$. Describe some of the behaviors you see, include some plots, and give an intuitive explanation of how the noise relates to synchrony. 5 pts."
   ]
  },
  {
   "cell_type": "code",
   "execution_count": null,
   "metadata": {
    "collapsed": true
   },
   "outputs": [],
   "source": [
    "\n"
   ]
  },
  {
   "cell_type": "markdown",
   "metadata": {},
   "source": [
    "d) We are now prepared to model the spatio-temporal production of zebrafish somites via travelling waves. To do so, consider the 100 oscillators not as randomly positioned in space, but rather along the anterior-posterior axis of a growing tail. Modify your simulation from earlier as follows:\n",
    "1) Instead of being globally coupled, each oscillator is now coupled to its two neighbors: \n",
    "\n",
    "$\\dot{\\theta_i} = \\omega_i + \\alpha\\sin(\\theta_{i+1}−\\theta_i)+\\alpha\\sin(\\theta_{i−1}−\\theta_i)$\n",
    "\n",
    "2) Instead of all $\\omega_i$ being equal, they now have a global frequency profile (biologically determined by a gradient): \n",
    "\n",
    "$\\omega_i = 1 − e^{−i/\\lambda}$, and set $\\lambda = 20$.\n",
    "\n",
    "3) Add a new oscillator with phase equal to the last to the end of the vector about 10 times per oscillation (does not have to be exact). When you do this, shift the ω gradient over by one to include the new oscillator, and stop simulating the anterior- most oscillators. Alternatively, this can be thought of as having a 100-oscillator ’active’ simulation region with new oscillators being added at the posterior end which causes old oscillators to be pushed out of the ’active’ region at the anterior end (i.e. frozen). The new oscillator phase can be set to the same phase as the previously posterior-most oscillator. Choose reasonable parameters as needed.\n",
    "\n",
    "Plot the sine of the oscillators over space (not over time as was done earlier) for several time values to show the travelling waves and “freezing” of the anterior “segments.” It may help to animate your simulation by re-plotting sinθ every time step. The commands drawnow and pause may come in handy if you choose to do this. Include in your submission a few (eg. 5 – 10) such plots at various time points during the progress of your simulation. 15 pts."
   ]
  },
  {
   "cell_type": "code",
   "execution_count": null,
   "metadata": {
    "collapsed": true
   },
   "outputs": [],
   "source": [
    "N=100\n",
    "lamda = 20\n"
   ]
  }
 ],
 "metadata": {
  "kernelspec": {
   "display_name": "Python 2",
   "language": "python",
   "name": "python2"
  },
  "language_info": {
   "codemirror_mode": {
    "name": "ipython",
    "version": 2
   },
   "file_extension": ".py",
   "mimetype": "text/x-python",
   "name": "python",
   "nbconvert_exporter": "python",
   "pygments_lexer": "ipython2",
   "version": "2.7.6"
  }
 },
 "nbformat": 4,
 "nbformat_minor": 1
}
