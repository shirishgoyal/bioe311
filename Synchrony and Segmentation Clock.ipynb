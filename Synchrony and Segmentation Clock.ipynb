{
 "cells": [
  {
   "cell_type": "markdown",
   "metadata": {},
   "source": [
    "In the first problem set we analyzed two coupled phase oscillators, and determined under what conditions the two were phase-locked, or “synchronized.” As we discussed in class, the situation becomes more complicated when there is a collection of many coupled oscillators in the presence of noise. A model governing equation for globally coupled oscillators can be written as:\n",
    "\n",
    "$\\dot{\\theta_i} = \\omega_i + \\alpha\\sin(<\\theta> - \\theta_i) + \\zeta_i$\n",
    "\n",
    "a) Setting all $\\omega_i$ equal, simulate N=100 phase oscillators, specified as a vector theta, initialized to a uniform random distribution. Be sure to calculate the average $<\\theta>$ using the circular average. Plot the circular variance (synchrony) over time. Also plot the sine of the phases of all oscillators together on one plot. \n",
    "Describe what you see. Use $\\alpha = .1$, and $\\zeta$ a Gaussian distribution with mean $\\mu = .1$ and standard deviation $\\sigma = .1$ added to $\\theta$ every time step (use dt = .1). \n",
    "(It is strongly recommended to write your solver for this problem – eg. using Euler’s method – rather than using ode45. Note: no starter code is provided for Problem 4.) 10 pts."
   ]
  },
  {
   "cell_type": "code",
   "execution_count": null,
   "metadata": {
    "collapsed": true
   },
   "outputs": [],
   "source": []
  },
  {
   "cell_type": "markdown",
   "metadata": {},
   "source": [
    "b) Switch the sign of $\\alpha$ to be negative, repeat the simulation, and generate the same types of graphs. What happens? Why? What happens if N = 2? Why? 5 pts."
   ]
  },
  {
   "cell_type": "code",
   "execution_count": null,
   "metadata": {
    "collapsed": true
   },
   "outputs": [],
   "source": []
  },
  {
   "cell_type": "markdown",
   "metadata": {},
   "source": [
    "c) For positive $\\alpha$, vary the mean and variance of $\\zeta$. Describe some of the behaviors you see, include some plots, and give an intuitive explanation of how the noise relates to synchrony. 5 pts."
   ]
  },
  {
   "cell_type": "code",
   "execution_count": null,
   "metadata": {
    "collapsed": true
   },
   "outputs": [],
   "source": []
  },
  {
   "cell_type": "markdown",
   "metadata": {},
   "source": [
    "d) We are now prepared to model the spatio-temporal production of zebrafish somites via travelling waves. To do so, consider the 100 oscillators not as randomly positioned in space, but rather along the anterior-posterior axis of a growing tail. Modify your simulation from earlier as follows:\n",
    "1) Instead of being globally coupled, each oscillator is now coupled to its two neighbors: \n",
    "\n",
    "$\\dot{\\theta_i} = \\omega_i + \\alpha\\sin(\\theta_{i+1}−\\theta_i)+\\alpha\\sin(\\theta_{i−1}−\\theta_i)$\n",
    "\n",
    "2) Instead of all $\\omega_i$ being equal, they now have a global frequency profile (biologically determined by a gradient): \n",
    "\n",
    "$\\omega_i = 1 − e^{−i/\\lambda}$, and set $\\lambda = 20$.\n",
    "\n",
    "3) Add a new oscillator with phase equal to the last to the end of the vector about 10 times per oscillation (does not have to be exact). When you do this, shift the ω gradient over by one to include the new oscillator, and stop simulating the anterior- most oscillators. Alternatively, this can be thought of as having a 100-oscillator ’active’ simulation region with new oscillators being added at the posterior end which causes old oscillators to be pushed out of the ’active’ region at the anterior end (i.e. frozen). The new oscillator phase can be set to the same phase as the previously posterior-most oscillator. Choose reasonable parameters as needed.\n",
    "\n",
    "Plot the sine of the oscillators over space (not over time as was done earlier) for several time values to show the travelling waves and “freezing” of the anterior “segments.” It may help to animate your simulation by re-plotting sinθ every time step. The commands drawnow and pause may come in handy if you choose to do this. Include in your submission a few (eg. 5 – 10) such plots at various time points during the progress of your simulation. 15 pts."
   ]
  },
  {
   "cell_type": "code",
   "execution_count": null,
   "metadata": {
    "collapsed": true
   },
   "outputs": [],
   "source": []
  }
 ],
 "metadata": {
  "kernelspec": {
   "display_name": "Python 2",
   "language": "python",
   "name": "python2"
  },
  "language_info": {
   "codemirror_mode": {
    "name": "ipython",
    "version": 2
   },
   "file_extension": ".py",
   "mimetype": "text/x-python",
   "name": "python",
   "nbconvert_exporter": "python",
   "pygments_lexer": "ipython2",
   "version": "2.7.11"
  }
 },
 "nbformat": 4,
 "nbformat_minor": 1
}
